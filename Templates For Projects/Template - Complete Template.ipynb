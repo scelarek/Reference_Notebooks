{
 "cells": [
  {
   "cell_type": "markdown",
   "metadata": {},
   "source": [
    "# <a id='toc1_'></a>[Data Analysis](#toc0_)\n",
    "\n",
    "Name  \n",
    "Topic  \n",
    "email  \n",
    "June 4th, 2023  \n"
   ]
  },
  {
   "cell_type": "markdown",
   "metadata": {},
   "source": [
    "**Table of contents**<a id='toc0_'></a>    \n",
    "- [Data Analysis](#toc1_)    \n",
    "- [1. Introduction](#toc2_)    \n",
    "  - [1.1. Key Questions](#toc2_1_)    \n",
    "  - [1.2. Assumptions and Methods](#toc2_2_)    \n",
    "- [2. Setup and Data Collection](#toc3_)    \n",
    "  - [2.1. Setup Libraries](#toc3_1_)    \n",
    "  - [2.2. Load Data](#toc3_2_)    \n",
    "- [3. Assess, Clean, and Feature Engineer](#toc4_)    \n",
    "  - [3.1. Assess](#toc4_1_)    \n",
    "  - [3.2. Clean](#toc4_2_)    \n",
    "  - [3.3. Feature Engineering](#toc4_3_)    \n",
    "- [4. Exploratory Data Analysis](#toc5_)    \n",
    "  - [4.1. Univariate Analysis](#toc5_1_)    \n",
    "  - [4.2. Bivariate Analysis](#toc5_2_)    \n",
    "- [5. Model 1: Preparation, Initiation, and Evaluation](#toc6_)    \n",
    "  - [5.1. Model 1: Hypothesis Formation](#toc6_1_)    \n",
    "  - [5.2. Model 1: Data Preparation](#toc6_2_)    \n",
    "  - [5.3. Model 1: Assumptions](#toc6_3_)    \n",
    "  - [5.4. Model 1: Initiation and Evaluation](#toc6_4_)    \n",
    "  - [5.5. Model 1: Assessing Residuals](#toc6_5_)    \n",
    "  - [5.6. Model 1: Iteration](#toc6_6_)    \n",
    "- [Key Findings](#toc7_)    \n",
    "- [Recommendations](#toc8_)    \n",
    "\n",
    "<!-- vscode-jupyter-toc-config\n",
    "\tnumbering=false\n",
    "\tanchor=true\n",
    "\tflat=false\n",
    "\tminLevel=1\n",
    "\tmaxLevel=6\n",
    "\t/vscode-jupyter-toc-config -->\n",
    "<!-- THIS CELL WILL BE REPLACED ON TOC UPDATE. DO NOT WRITE YOUR TEXT IN THIS CELL -->"
   ]
  },
  {
   "cell_type": "markdown",
   "metadata": {},
   "source": [
    "# <a id='toc2_'></a>[1. Introduction](#toc0_)\n",
    "\n"
   ]
  },
  {
   "cell_type": "markdown",
   "metadata": {},
   "source": [
    "## <a id='toc2_1_'></a>[1.1. Key Questions](#toc0_)"
   ]
  },
  {
   "cell_type": "markdown",
   "metadata": {},
   "source": [
    "## <a id='toc2_2_'></a>[1.2. Assumptions and Methods](#toc0_)"
   ]
  },
  {
   "cell_type": "markdown",
   "metadata": {},
   "source": [
    "\n",
    "# <a id='toc3_'></a>[2. Setup and Data Collection](#toc0_)\n",
    "\n"
   ]
  },
  {
   "cell_type": "markdown",
   "metadata": {},
   "source": [
    "## <a id='toc3_1_'></a>[2.1. Setup Libraries](#toc0_)"
   ]
  },
  {
   "cell_type": "code",
   "execution_count": 1,
   "metadata": {},
   "outputs": [],
   "source": [
    "from my_code import *\n"
   ]
  },
  {
   "cell_type": "code",
   "execution_count": 2,
   "metadata": {},
   "outputs": [
    {
     "name": "stdout",
     "output_type": "stream",
     "text": [
      "Versions used in this notebook:\n",
      "Python version: 3.9.16 (main, Mar  8 2023, 10:39:24) [MSC v.1916 64 bit (AMD64)]\n",
      "Pandas version: 2.0.2\n",
      "Numpy version: 1.23.4\n",
      "Seaborn version: 0.12.1\n",
      "Matplotlib version: 3.6.2\n",
      "SKLearn version: 1.2.2\n"
     ]
    }
   ],
   "source": [
    "# initialize styling params\n",
    "plt.rcParams[\"xtick.direction\"] = \"in\"\n",
    "plt.rcParams[\"ytick.direction\"] = \"in\"\n",
    "plt.rcParams[\"font.size\"] = 11.0\n",
    "plt.rcParams[\"figure.figsize\"] = (9, 6)\n",
    "plt.style.use('fivethirtyeight')\n",
    "\n",
    "sns.set_style(\"whitegrid\")\n",
    "sns.set_palette(\"viridis\")\n",
    "sns.set_context(\"notebook\")\n",
    "\n",
    "pd.set_option(\"display.max_columns\", 50)\n",
    "pd.set_option('display.max_colwidth', 1000)\n",
    "pd.plotting.register_matplotlib_converters()\n",
    "os.environ[\"PYTHONHASHSEED\"] = \"123\"\n",
    "\n",
    "# import warnings\n",
    "# warnings.filterwarnings('ignore')"
   ]
  },
  {
   "cell_type": "markdown",
   "metadata": {},
   "source": [
    "## <a id='toc3_2_'></a>[2.2. Load Data](#toc0_)"
   ]
  },
  {
   "cell_type": "markdown",
   "metadata": {},
   "source": [
    "\n",
    "# <a id='toc4_'></a>[3. Assess, Clean, and Feature Engineer](#toc0_)\n",
    "\n",
    "This section will describe the methods and techniques used in the analysis.\n"
   ]
  },
  {
   "cell_type": "markdown",
   "metadata": {},
   "source": [
    "## <a id='toc4_1_'></a>[3.1. Assess](#toc0_)"
   ]
  },
  {
   "cell_type": "markdown",
   "metadata": {},
   "source": [
    "## <a id='toc4_2_'></a>[3.2. Clean](#toc0_)"
   ]
  },
  {
   "cell_type": "markdown",
   "metadata": {},
   "source": [
    "## <a id='toc4_3_'></a>[3.3. Feature Engineering](#toc0_)"
   ]
  },
  {
   "cell_type": "markdown",
   "metadata": {},
   "source": [
    "\n",
    "# <a id='toc5_'></a>[4. Exploratory Data Analysis](#toc0_)\n",
    "\n",
    "In this section, we will perform some basic data analysis.\n"
   ]
  },
  {
   "cell_type": "markdown",
   "metadata": {},
   "source": [
    "## <a id='toc5_1_'></a>[4.1. Univariate Analysis](#toc0_)"
   ]
  },
  {
   "cell_type": "markdown",
   "metadata": {},
   "source": [
    "## <a id='toc5_2_'></a>[4.2. Bivariate Analysis](#toc0_)"
   ]
  },
  {
   "cell_type": "markdown",
   "metadata": {},
   "source": [
    "\n",
    "# <a id='toc6_'></a>[5. Model 1: Preparation, Initiation, and Evaluation](#toc0_)\n",
    "\n",
    "In this section, we will apply some machine learning models on the data.\n"
   ]
  },
  {
   "cell_type": "markdown",
   "metadata": {},
   "source": [
    "## <a id='toc6_1_'></a>[5.1. Model 1: Hypothesis Formation](#toc0_)\n",
    "\n"
   ]
  },
  {
   "cell_type": "markdown",
   "metadata": {},
   "source": [
    "## <a id='toc6_2_'></a>[5.2. Model 1: Data Preparation](#toc0_)\n",
    "\n"
   ]
  },
  {
   "cell_type": "markdown",
   "metadata": {},
   "source": [
    "## <a id='toc6_3_'></a>[5.3. Model 1: Assumptions](#toc0_)\n",
    "\n"
   ]
  },
  {
   "cell_type": "markdown",
   "metadata": {},
   "source": [
    "## <a id='toc6_4_'></a>[5.4. Model 1: Initiation and Evaluation](#toc0_)\n",
    "\n"
   ]
  },
  {
   "cell_type": "markdown",
   "metadata": {},
   "source": [
    "## <a id='toc6_5_'></a>[5.5. Model 1: Assessing Residuals](#toc0_)\n"
   ]
  },
  {
   "cell_type": "markdown",
   "metadata": {},
   "source": [
    "\n",
    "## <a id='toc6_6_'></a>[5.6. Model 1: Iteration](#toc0_)\n"
   ]
  },
  {
   "cell_type": "markdown",
   "metadata": {},
   "source": [
    "# <a id='toc7_'></a>[Key Findings](#toc0_)\n",
    "\n",
    "Summarize the findings from the analyses.\n"
   ]
  },
  {
   "cell_type": "markdown",
   "metadata": {},
   "source": [
    "\n",
    "# <a id='toc8_'></a>[Recommendations](#toc0_)\n",
    "\n",
    "List number of actionables based on the findings."
   ]
  }
 ],
 "metadata": {
  "kernelspec": {
   "display_name": "base",
   "language": "python",
   "name": "python3"
  },
  "language_info": {
   "codemirror_mode": {
    "name": "ipython",
    "version": 3
   },
   "file_extension": ".py",
   "mimetype": "text/x-python",
   "name": "python",
   "nbconvert_exporter": "python",
   "pygments_lexer": "ipython3",
   "version": "3.9.16"
  },
  "orig_nbformat": 4
 },
 "nbformat": 4,
 "nbformat_minor": 2
}
