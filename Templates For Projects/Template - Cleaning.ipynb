{
 "cells": [
  {
   "cell_type": "markdown",
   "metadata": {},
   "source": [
    "# <a id='toc1_'></a>[**Cleaning Demo and Template**](#toc0_)\n",
    "\n",
    "Name  \n",
    "Topic  \n",
    "email  \n",
    "June 4th, 2023  \n"
   ]
  },
  {
   "cell_type": "markdown",
   "metadata": {},
   "source": [
    "**Table of contents**<a id='toc0_'></a>    \n",
    "- [**Cleaning Demo and Template**](#toc1_)    \n",
    "    - [**Load**](#toc1_1_1_)    \n",
    "  - [**Assess**](#toc1_2_)    \n",
    "    - [Programmatic Assessment](#toc1_2_1_)    \n",
    "    - [Visual Assessment](#toc1_2_2_)    \n",
    "    - [List of Issues to Resolve](#toc1_2_3_)    \n",
    "      - [Quality issues](#toc1_2_3_1_)    \n",
    "      - [Tidiness issues](#toc1_2_3_2_)    \n",
    "  - [**Clean**](#toc1_3_)    \n",
    "    - [Issue #1:](#toc1_3_1_)    \n",
    "      - [Define:](#toc1_3_1_1_)    \n",
    "      - [Code](#toc1_3_1_2_)    \n",
    "      - [Test](#toc1_3_1_3_)    \n",
    "    - [Issue #2:....](#toc1_3_2_)    \n",
    "      - [Define:](#toc1_3_2_1_)    \n",
    "      - [Code](#toc1_3_2_2_)    \n",
    "      - [Test](#toc1_3_2_3_)    \n",
    "\n",
    "<!-- vscode-jupyter-toc-config\n",
    "\tnumbering=false\n",
    "\tanchor=true\n",
    "\tflat=false\n",
    "\tminLevel=1\n",
    "\tmaxLevel=6\n",
    "\t/vscode-jupyter-toc-config -->\n",
    "<!-- THIS CELL WILL BE REPLACED ON TOC UPDATE. DO NOT WRITE YOUR TEXT IN THIS CELL -->"
   ]
  },
  {
   "cell_type": "code",
   "execution_count": null,
   "metadata": {},
   "outputs": [],
   "source": [
    "from my_code import *"
   ]
  },
  {
   "cell_type": "code",
   "execution_count": null,
   "metadata": {},
   "outputs": [],
   "source": [
    "# initialize styling params\n",
    "plt.rcParams[\"xtick.direction\"] = \"in\"\n",
    "plt.rcParams[\"ytick.direction\"] = \"in\"\n",
    "plt.rcParams[\"font.size\"] = 11.0\n",
    "plt.rcParams[\"figure.figsize\"] = (9, 6)\n",
    "plt.style.use('fivethirtyeight')\n",
    "\n",
    "sns.set_style(\"whitegrid\")\n",
    "sns.set_palette(\"viridis\")\n",
    "sns.set_context(\"notebook\")\n",
    "\n",
    "pd.set_option(\"display.max_columns\", 50)\n",
    "pd.set_option('display.max_colwidth', 1000)\n",
    "pd.plotting.register_matplotlib_converters()\n",
    "os.environ[\"PYTHONHASHSEED\"] = \"123\"\n",
    "\n",
    "# import warnings\n",
    "# warnings.filterwarnings('ignore')"
   ]
  },
  {
   "cell_type": "markdown",
   "metadata": {},
   "source": [
    "## <a id='toc1_1_1_'></a>[**Load**](#toc0_)\n"
   ]
  },
  {
   "cell_type": "code",
   "execution_count": null,
   "metadata": {},
   "outputs": [],
   "source": [
    "# read in csv file on disk\n",
    "twitter_df = pd.read_csv('Data/twitter-archive-enhanced (1).csv')\n",
    "\n"
   ]
  },
  {
   "cell_type": "markdown",
   "metadata": {},
   "source": [
    "## <a id='toc1_2_'></a>[**Assess**](#toc0_)"
   ]
  },
  {
   "cell_type": "markdown",
   "metadata": {},
   "source": [
    "### <a id='toc1_2_1_'></a>[Programmatic Assessment](#toc0_)"
   ]
  },
  {
   "cell_type": "code",
   "execution_count": null,
   "metadata": {},
   "outputs": [],
   "source": [
    "twitter_df.describe()"
   ]
  },
  {
   "cell_type": "markdown",
   "metadata": {},
   "source": [
    "### <a id='toc1_2_2_'></a>[Visual Assessment](#toc0_)"
   ]
  },
  {
   "cell_type": "code",
   "execution_count": null,
   "metadata": {},
   "outputs": [],
   "source": [
    "twitter_df.head()"
   ]
  },
  {
   "cell_type": "markdown",
   "metadata": {},
   "source": [
    "### <a id='toc1_2_3_'></a>[List of Issues to Resolve](#toc0_)\n",
    "\n",
    "List of Issues to Fix"
   ]
  },
  {
   "cell_type": "markdown",
   "metadata": {},
   "source": [
    "#### <a id='toc1_2_3_1_'></a>[Quality issues](#toc0_)\n",
    "\n",
    "1. api_df has 30 missing tweet entries compared with the twitter_df. - Completeness\n",
    "\n",
    "2. image_df has 281 less data entries as compared with twitter_df and potentially has multiple images for some entries. - Completeness\n"
   ]
  },
  {
   "cell_type": "markdown",
   "metadata": {},
   "source": [
    "\n",
    "#### <a id='toc1_2_3_2_'></a>[Tidiness issues](#toc0_)\n",
    "   \n",
    "1.   Numerator and Denominator are in two separate columns although they are one piece of information. - Columns  \n",
    "     -    Combine these two columns into a new singular column. \n"
   ]
  },
  {
   "cell_type": "markdown",
   "metadata": {},
   "source": [
    "## <a id='toc1_3_'></a>[**Clean**](#toc0_)"
   ]
  },
  {
   "cell_type": "markdown",
   "metadata": {},
   "source": [
    "### <a id='toc1_3_1_'></a>[Issue #1:](#toc0_)"
   ]
  },
  {
   "cell_type": "markdown",
   "metadata": {},
   "source": [
    "#### <a id='toc1_3_1_1_'></a>[Define:](#toc0_)\n"
   ]
  },
  {
   "cell_type": "markdown",
   "metadata": {},
   "source": [
    "\n",
    "The first issues I wanted to address were all the Completeness issues. However, they would all be much easier to accomplish if I merged the 3 dfs together. This would accomplish three of my issues in one swoop. Here is my breakdown of each issue.\n",
    "\n",
    "**Quality**:\n",
    "1. api_df has 30 missing tweet entries compared with the twitter_df. - Completeness  \n",
    "   - Check to see if there is some commonality with the missing tweets. Otherwise, consider deleting incomplete data from twitter_df. \n",
    "\n",
    "2. image_df has 281 less data entries as compared with twitter_df and potentially has multiple images for some entries. - Completeness\n",
    "   - Check to see if there is some commonality with the missing tweets. Otherwise, consider deleting incomplete data from twitter_df. \n",
    "\n",
    "**Tidiness**:   \n",
    "\n",
    "2. Combine the three dataframes into one master dataframe on tweet_id. - Tables   \n",
    "   - Use pd.merge to merge all three dfs on tweet_id\n",
    "\n"
   ]
  },
  {
   "cell_type": "markdown",
   "metadata": {},
   "source": [
    "#### <a id='toc1_3_1_2_'></a>[Code](#toc0_)"
   ]
  },
  {
   "cell_type": "code",
   "execution_count": null,
   "metadata": {},
   "outputs": [],
   "source": [
    "master_df = pd.merge(clean_twitter_df, clean_api_df,\\\n",
    "                                how='outer', on='tweet_id', sort=True, copy=True)\n",
    "\n",
    "master_df = pd.merge(master_df, clean_image_df,\\\n",
    "                                how='outer', on='tweet_id', sort=True, copy=True)\n",
    "\n",
    "print(master_df.columns)\n",
    "\n",
    "master_df.info()\n",
    "master_df.head()\n"
   ]
  },
  {
   "cell_type": "markdown",
   "metadata": {},
   "source": [
    "#### <a id='toc1_3_1_3_'></a>[Test](#toc0_)"
   ]
  },
  {
   "cell_type": "code",
   "execution_count": null,
   "metadata": {},
   "outputs": [],
   "source": [
    "master_df.info()\n"
   ]
  },
  {
   "cell_type": "markdown",
   "metadata": {},
   "source": [
    "### <a id='toc1_3_2_'></a>[Issue #2:....](#toc0_)"
   ]
  },
  {
   "cell_type": "markdown",
   "metadata": {},
   "source": [
    "#### <a id='toc1_3_2_1_'></a>[Define:](#toc0_)\n"
   ]
  },
  {
   "cell_type": "markdown",
   "metadata": {},
   "source": [
    "#### <a id='toc1_3_2_2_'></a>[Code](#toc0_)"
   ]
  },
  {
   "cell_type": "code",
   "execution_count": null,
   "metadata": {},
   "outputs": [],
   "source": []
  },
  {
   "cell_type": "markdown",
   "metadata": {},
   "source": [
    "#### <a id='toc1_3_2_3_'></a>[Test](#toc0_)"
   ]
  },
  {
   "cell_type": "code",
   "execution_count": null,
   "metadata": {},
   "outputs": [],
   "source": []
  }
 ],
 "metadata": {
  "kernelspec": {
   "display_name": "base",
   "language": "python",
   "name": "python3"
  },
  "language_info": {
   "name": "python",
   "version": "3.9.16"
  },
  "orig_nbformat": 4
 },
 "nbformat": 4,
 "nbformat_minor": 2
}
