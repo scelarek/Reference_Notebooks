{
 "cells": [
  {
   "cell_type": "markdown",
   "metadata": {},
   "source": [
    "# <a id='toc1_'></a>[Commonly Used Distributions in Numpy Library](#toc0_)"
   ]
  },
  {
   "cell_type": "code",
   "execution_count": 53,
   "metadata": {},
   "outputs": [],
   "source": [
    "import numpy as np\n",
    "from numpy import random\n",
    "import matplotlib.pyplot as plt\n",
    "import seaborn as sns\n"
   ]
  },
  {
   "attachments": {},
   "cell_type": "markdown",
   "metadata": {},
   "source": [
    "**Table of contents**<a id='toc0_'></a>    \n",
    "- [Normal Distribution](#toc2_)    \n",
    "- [Binomial Distribution](#toc3_)    \n",
    "- [Poisson Distribution](#toc4_)    \n",
    "- [Uniform Distribution](#toc5_)    \n",
    "- [Logistic Distribution](#toc6_)    \n",
    "- [Multinomial Distribution](#toc7_)    \n",
    "- [Exponential Distribution](#toc8_)    \n",
    "- [Chi Square Distribution](#toc9_)    \n",
    "- [Rayleigh Distribution](#toc10_)    \n",
    "- [Pareto Distribution](#toc11_)    \n",
    "- [Zipf Distribution](#toc12_)    \n",
    "\n",
    "<!-- vscode-jupyter-toc-config\n",
    "\tnumbering=false\n",
    "\tanchor=true\n",
    "\tflat=false\n",
    "\tminLevel=1\n",
    "\tmaxLevel=6\n",
    "\t/vscode-jupyter-toc-config -->\n",
    "<!-- THIS CELL WILL BE REPLACED ON TOC UPDATE. DO NOT WRITE YOUR TEXT IN THIS CELL -->"
   ]
  },
  {
   "cell_type": "markdown",
   "metadata": {},
   "source": [
    "# <a id='toc2_'></a>[Normal Distribution](#toc0_)\n",
    "\n",
    "- **Use Case:** The normal distribution is used in statistics to represent real-valued random variables of unknown distributions. It is the most important probability distribution in statistics because it fits many natural phenomena like heights, blood pressure, measurement errors, and IQ scores.\n",
    "\n",
    "- **Example:** If the heights of a large group of individuals are measured, it can be expected that the distribution of values would follow a normal distribution.\n",
    "\n",
    "- **Formula:** The probability density function of a normal distribution is given by:\n",
    "\n",
    "    $$ f(x) = \\frac{1}{\\sqrt{2\\pi\\sigma^2}} e^{ -\\frac{(x-\\mu)^2}{2\\sigma^2} } $$\n",
    "\n",
    "    where:\n",
    "    - \\( \\mu \\) is the mean of the distribution\n",
    "    - \\( \\sigma \\) is the standard deviation of the distribution\n",
    "\n",
    "- **Code:**\n",
    "   \n"
   ]
  },
  {
   "cell_type": "code",
   "execution_count": 54,
   "metadata": {},
   "outputs": [],
   "source": [
    "# from scipy.stats import norm\n",
    "\n",
    "# # Define the mean and standard deviation\n",
    "# mu = 0\n",
    "# sigma = 1\n",
    "\n",
    "# # Generate a range of x values\n",
    "# x = np.linspace(-10, 10, 1000)\n",
    "\n",
    "# # Generate the normal distribution for the range\n",
    "# y = norm.pdf(x, mu, sigma)\n",
    "\n",
    "# # Plot the distribution\n",
    "# plt.plot(x, y)\n",
    "# plt.title('Normal Distribution')\n",
    "# plt.show()"
   ]
  },
  {
   "cell_type": "markdown",
   "metadata": {},
   "source": [
    "\n",
    "- **Assumptions/Constraints:**\n",
    "    - The mean, mode and median are all equal.\n",
    "    - The curve of the distribution is bell-shaped and symmetrical about the mean.\n",
    "    - The total area under the curve is 1.\n",
    "    - Approximately 68% of the data falls within one standard deviation of the mean, 95% falls within two standard deviations, and 99.7% falls within three standard deviations."
   ]
  },
  {
   "cell_type": "markdown",
   "metadata": {},
   "source": [
    "\n",
    "# <a id='toc3_'></a>[Binomial Distribution](#toc0_)\n",
    "- **Use Case:** The binomial distribution model deals with finding the probability of success of an event which has only two possible outcomes in a series of experiments. For example, tossing of a coin always gives a head or a tail. The probability of finding exactly 3 heads in tossing a coin repeatedly for 10 times is estimated during the binomial distribution.\n",
    "- **Example:** Flipping a coin and counting the number of heads.\n",
    "- **Formula:**\n",
    "  - Probability Mass Function (PMF): \n",
    "    $$P(X=k) = C(n, k) p^k (1-p)^{n-k}$$\n",
    "  - Where:\n",
    "    - \\( n \\) is the number of trials\n",
    "    - \\( k \\) is the number of successes\n",
    "    - \\( p \\) is the probability of success\n",
    "    - \\( C(n, k) \\) is the binomial coefficient\n",
    "- **Code:**\n"
   ]
  },
  {
   "cell_type": "code",
   "execution_count": 55,
   "metadata": {},
   "outputs": [],
   "source": [
    "# x = random.binomial(n=10, p=0.5, size=10)\n",
    "\n",
    "# sns.distplot(random.binomial(n=10, p=0.5, size=1000), hist=True, kde=False)\n"
   ]
  },
  {
   "attachments": {},
   "cell_type": "markdown",
   "metadata": {},
   "source": [
    "- **Assumptions/Constraints:**\n",
    "  - There are only two possible outcomes in a trial- either a success or a failure.\n",
    "  - Each trial is identical.\n",
    "  - The probability of success and failure is same for all trials.\n",
    "  - Each trial is independent, because the outcome of the previous toss doesn't determine or affect the outcome of current toss.\n"
   ]
  },
  {
   "cell_type": "markdown",
   "metadata": {},
   "source": [
    "\n",
    "# <a id='toc4_'></a>[Poisson Distribution](#toc0_)\n",
    "- **Use Case:** The Poisson distribution is popular for modelling the number of times an event occurs in an interval of time or space. It can be used to model events such as the number of emails arriving in your mailbox in one hour or the number of customers arriving at a salon in one day.\n",
    "-\n",
    "\n",
    "- **Example:** The number of emails arriving in your mailbox in one hour.\n",
    "- **Formula:**\n",
    "  - Probability Mass Function (PMF): \n",
    "    $$P(X=k) = \\frac{e^{-\\mu} \\mu^k}{k!}$$\n",
    "  - Where:\n",
    "    - \\( \\mu \\) is the average rate (mean number of occurrences) \n",
    "    - \\( k \\) is the actual number of successes\n",
    "- **Code:**\n"
   ]
  },
  {
   "cell_type": "code",
   "execution_count": 56,
   "metadata": {},
   "outputs": [],
   "source": [
    "# mu = 0.6  # mean\n",
    "# s = np.random.poisson(mu, 10000)\n",
    "\n",
    "# comparison between normal dist and poisson dist\n",
    "# sns.distplot(random.normal(loc=50, scale=7, size=1000), hist=False, label='normal')\n",
    "# sns.distplot(random.poisson(lam=50, size=1000), hist=False, label='poisson')\n",
    "\n"
   ]
  },
  {
   "cell_type": "markdown",
   "metadata": {},
   "source": [
    "- **Assumptions/Constraints:**\n",
    "  - Any successful event should not influence the outcome of another successful event.\n",
    "  - The probability of success over a short interval must equal the probability of success over a longer interval.\n",
    "  - The probability of success in an interval approaches zero as the interval becomes smaller.\n"
   ]
  },
  {
   "cell_type": "markdown",
   "metadata": {},
   "source": [
    "\n",
    "# <a id='toc5_'></a>[Uniform Distribution](#toc0_)\n",
    "- **Use Case:** The uniform distribution is a probability distribution where each value within a certain range is equally likely to occur and values outside of the range never occur. If we make a density plot of a uniform distribution, it appears flat because no value is any more likely (and hence has any more density) than another.\n",
    "- **Example:** Rolling a single die. Each outcome (1,2,3,4,5,6) is equally likely.\n",
    "- **Formula:**\n",
    "  - Probability Density Function (PDF): \n",
    "    $$f(x) = \\frac{1}{b - a}$$\n",
    "  - Where:\n",
    "    - \\( a \\) is the minimum value\n",
    "    - \\( b \\) is the maximum value\n",
    "- **Code:**\n"
   ]
  },
  {
   "cell_type": "code",
   "execution_count": 57,
   "metadata": {},
   "outputs": [],
   "source": [
    "# s = np.random.uniform(-1,0,1000)\n",
    "\n",
    "# sns.distplot(random.uniform(size=1000), hist=False)\n"
   ]
  },
  {
   "attachments": {},
   "cell_type": "markdown",
   "metadata": {},
   "source": [
    "\n",
    "- **Assumptions/Constraints:**\n",
    "  - Data is uniformly distributed across the range.\n",
    "  - All intervals of the same length are equally probable.\n"
   ]
  },
  {
   "cell_type": "markdown",
   "metadata": {},
   "source": [
    "\n",
    "# <a id='toc6_'></a>[Logistic Distribution](#toc0_)\n",
    "- **Use Case:** The logistic distribution is used in logistic regression to model the relationship between a binary dependent variable and one or more independent variables. It is also used in economics to model growth.\n",
    "- **Example:** Predicting whether a student will pass or fail an exam based on the number of hours they study.\n",
    "- **Formula:**\n",
    "  - Probability Density Function (PDF): \n",
    "    $$f(x) = \\frac{e^{-(x-\\mu)/s}}{s(1+e^{-(x-\\mu)/s})^2}$$\n",
    "  - Where:\n",
    "    - \\( \\mu \\) is the location parameter (mean)\n",
    "    - \\( s \\) is the scale parameter (standard deviation)\n",
    "- **Code:**\n"
   ]
  },
  {
   "cell_type": "code",
   "execution_count": 58,
   "metadata": {},
   "outputs": [],
   "source": [
    "# x = random.logistic(loc=1, scale=2, size=(2, 3))\n",
    "\n",
    "# # comparing logistic and normal\n",
    "# sns.distplot(random.normal(scale=2, size=1000), hist=False, label='normal')\n",
    "# sns.distplot(random.logistic(size=1000), hist=False, label='logistic')\n"
   ]
  },
  {
   "cell_type": "markdown",
   "metadata": {},
   "source": [
    "\n",
    "- **Assumptions/Constraints:**\n",
    "  - Data follows a logistic distribution.\n",
    "  - The logistic distribution is unimodal.\n"
   ]
  },
  {
   "cell_type": "markdown",
   "metadata": {},
   "source": [
    "# <a id='toc7_'></a>[Multinomial Distribution](#toc0_)\n",
    "- **Use Case:** This distribution is used when you have multiple outcomes and you want to know the probability of each outcome occurring a certain number of times in a fixed number of trials.\n",
    "- **Example:** The probability of getting 2 heads, 3 tails, and 5 blanks when flipping a three-sided coin 10 times.\n",
    "- **Formula:** \n",
    "  - $$P(X_1 = x_1, X_2 = x_2, ..., X_k = x_k) = \\frac{n!}{x_1!x_2!...x_k!}p_1^{x_1}p_2^{x_2}...p_k^{x_k}$$\n",
    "- **Code:**\n"
   ]
  },
  {
   "cell_type": "code",
   "execution_count": 59,
   "metadata": {},
   "outputs": [],
   "source": [
    "# x = random.multinomial(n=6, pvals=[1/6, 1/6, 1/6, 1/6, 1/6, 1/6])\n",
    "\n"
   ]
  },
  {
   "attachments": {},
   "cell_type": "markdown",
   "metadata": {},
   "source": [
    "- **Assumptions/Constraints:** \n",
    "  - Each trial is independent.\n",
    "  - The probability of each outcome remains constant from trial to trial.\n",
    "  - The number of trials, n, is fixed.\n"
   ]
  },
  {
   "cell_type": "markdown",
   "metadata": {},
   "source": [
    "\n",
    "# <a id='toc8_'></a>[Exponential Distribution](#toc0_)\n",
    "- **Use Case:** This distribution is used to model the time between events in a Poisson point process, i.e., a process in which events occur continuously and independently at a constant average rate.\n",
    "- **Example:** The amount of time (in minutes) that a call center worker spends on the phone with a customer.\n",
    "- **Formula:** \n",
    "  - $$f(x|\\lambda) = \\lambda e^{-\\lambda x}$$\n",
    "- **Code:**\n"
   ]
  },
  {
   "cell_type": "code",
   "execution_count": 60,
   "metadata": {},
   "outputs": [],
   "source": [
    "# x = random.exponential(scale=2, size=(2, 3))\n",
    "\n",
    "# sns.distplot(random.exponential(size=1000), hist=False)\n"
   ]
  },
  {
   "cell_type": "markdown",
   "metadata": {},
   "source": [
    "- **Assumptions/Constraints:** \n",
    "  - Events are independent.\n",
    "  - The rate at which events occur is constant.\n",
    "  - Two events cannot occur at exactly the same instant.\n"
   ]
  },
  {
   "cell_type": "markdown",
   "metadata": {},
   "source": [
    "\n",
    "# <a id='toc9_'></a>[Chi Square Distribution](#toc0_)\n",
    "- **Use Case:** This distribution is used in hypothesis testing and is the distribution of a sum of the squares of k independent standard normal random variables.\n",
    "- **Example:** Testing whether two categorical variables are independent.\n",
    "- **Formula:** \n",
    "  - $$f(x|k) = \\frac{1}{2^{k/2}\\Gamma(k/2)}x^{k/2-1}e^{-x/2}$$\n",
    "- **Code:**\n"
   ]
  },
  {
   "cell_type": "code",
   "execution_count": 61,
   "metadata": {},
   "outputs": [],
   "source": [
    "# x = random.chisquare(df=2, size=(2, 3))\n",
    "\n",
    "# sns.distplot(random.chisquare(df=1, size=1000), hist=False)"
   ]
  },
  {
   "cell_type": "markdown",
   "metadata": {},
   "source": [
    "- **Assumptions/Constraints:** \n",
    "  - The observations are independently drawn from a normal distribution.\n",
    "  - The sample size is sufficiently large (usually, the rule of thumb is that each cell should have at least 5 count).\n"
   ]
  },
  {
   "cell_type": "markdown",
   "metadata": {},
   "source": [
    "\n",
    "# <a id='toc10_'></a>[Rayleigh Distribution](#toc0_)\n",
    "- **Use Case:** This distribution is used to model the distribution of the magnitude of a two-dimensional random vector whose coordinates are independent, identically distributed, zero-mean, Gaussian random variables. It's often used in signal processing.\n",
    "- **Example:** The distribution of wind speeds.\n",
    "- **Formula:** \n",
    "  - $$f(x|\\sigma) = \\frac{x}{\\sigma^2}e^{-x^2/(2\\sigma^2)}$$\n",
    "- **Code:**\n"
   ]
  },
  {
   "cell_type": "code",
   "execution_count": 62,
   "metadata": {},
   "outputs": [],
   "source": [
    "\n",
    "# from scipy.stats import rayleigh\n",
    "# # define the parameters of the distribution\n",
    "# scale = sigma\n",
    "# # create a Rayleigh distribution\n",
    "# rv = rayleigh(scale=scale)\n",
    "# # get the probability density at a certain point\n",
    "# rv.pdf(5)\n",
    "\n",
    "\n",
    "# x = random.rayleigh(scale=2, size=(2, 3))\n",
    "\n",
    "# print(x)\n",
    "# sns.distplot(random.rayleigh(size=1000), hist=False)\n"
   ]
  },
  {
   "cell_type": "markdown",
   "metadata": {},
   "source": [
    "- **Assumptions/Constraints:** \n",
    "  - The observations are independently drawn from a normal distribution.\n",
    "  - The sample size is sufficiently large.\n"
   ]
  },
  {
   "cell_type": "markdown",
   "metadata": {},
   "source": [
    "\n",
    "# <a id='toc11_'></a>[Pareto Distribution](#toc0_)\n",
    "- **Use Case:** This distribution is used to model situations where a large number of small events coexist with a small number of large events (also known as the 80-20 rule).\n",
    "- **Example:** The distribution of wealth in a society.\n",
    "- **Formula:** \n",
    "  - $$f(x|k, x_m) = \\frac{kx_m^k}{x^{k+1}}$$\n",
    "- **Code:**\n"
   ]
  },
  {
   "cell_type": "code",
   "execution_count": 63,
   "metadata": {},
   "outputs": [],
   "source": [
    "# from scipy.stats import pareto\n",
    "# # define the parameters of the distribution\n",
    "# b = 2\n",
    "# # create a Pareto distribution\n",
    "# rv = pareto(b)\n",
    "# # get the probability density at a certain point\n",
    "# rv.pdf(5)\n",
    "\n",
    "# x = random.pareto(a=2, size=(2, 3))\n",
    "# sns.distplot(random.pareto(a=2, size=1000), kde=False)\n"
   ]
  },
  {
   "attachments": {},
   "cell_type": "markdown",
   "metadata": {},
   "source": [
    "\n",
    "- **Assumptions/Constraints:** \n",
    "  - The minimum possible value, \\(x_m\\), is known.\n",
    "  - The shape parameter, \\(k\\), is known.\n"
   ]
  },
  {
   "cell_type": "markdown",
   "metadata": {},
   "source": [
    "\n",
    "# <a id='toc12_'></a>[Zipf Distribution](#toc0_)\n",
    "- **Use Case:** This distribution is used to model the frequency of words in a language or the popularity of websites.\n",
    "- **Example:** The frequency of words in a large text corpus.\n",
    "- **Formula:** \n",
    "  - $$f(k; s, N) = \\frac{1/k^s}{\\sum_{n=1}^N (1/n^s)}$$\n",
    "- **Code:**\n",
    "  ```python\n"
   ]
  },
  {
   "cell_type": "code",
   "execution_count": 64,
   "metadata": {},
   "outputs": [],
   "source": [
    "# # from scipy.stats import zipf\n",
    "# # # define the parameters of the distribution\n",
    "# # a = s\n",
    "# # # create a Zipf distribution\n",
    "# # rv = zipf(a)\n",
    "# # # get the probability mass at a certain point\n",
    "# # rv.pmf(5)\n",
    "\n",
    "# x = random.zipf(a=2, size=1000)\n",
    "# sns.distplot(x[x<10], kde=False)\n",
    "\n"
   ]
  },
  {
   "cell_type": "markdown",
   "metadata": {},
   "source": [
    "- **Assumptions/Constraints:** \n",
    "  - The rank order of the data is known.\n",
    "  - The exponent parameter, \\(s\\), is known."
   ]
  }
 ],
 "metadata": {
  "kernelspec": {
   "display_name": "base",
   "language": "python",
   "name": "python3"
  },
  "language_info": {
   "codemirror_mode": {
    "name": "ipython",
    "version": 3
   },
   "file_extension": ".py",
   "mimetype": "text/x-python",
   "name": "python",
   "nbconvert_exporter": "python",
   "pygments_lexer": "ipython3",
   "version": "3.9.16"
  },
  "orig_nbformat": 4
 },
 "nbformat": 4,
 "nbformat_minor": 2
}
