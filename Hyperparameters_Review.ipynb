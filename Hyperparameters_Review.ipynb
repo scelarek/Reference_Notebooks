{
 "cells": [
  {
   "attachments": {},
   "cell_type": "markdown",
   "metadata": {},
   "source": [
    "# <a id='toc1_'></a>[Hyperparameter Concepts in Machine Learning](#toc0_)\n"
   ]
  },
  {
   "attachments": {},
   "cell_type": "markdown",
   "metadata": {},
   "source": [
    "**Table of contents**<a id='toc0_'></a>    \n",
    "- [Hyperparameter Concepts in Machine Learning](#toc1_)    \n",
    "  - [Regularization](#toc1_1_)    \n",
    "  - [Transformation](#toc1_2_)    \n",
    "  - [Stratification](#toc1_3_)    \n",
    "  - [Cross-Validation](#toc1_4_)    \n",
    "  - [Feature Engineering](#toc1_5_)    \n",
    "\n",
    "<!-- vscode-jupyter-toc-config\n",
    "\tnumbering=false\n",
    "\tanchor=true\n",
    "\tflat=false\n",
    "\tminLevel=1\n",
    "\tmaxLevel=6\n",
    "\t/vscode-jupyter-toc-config -->\n",
    "<!-- THIS CELL WILL BE REPLACED ON TOC UPDATE. DO NOT WRITE YOUR TEXT IN THIS CELL -->"
   ]
  },
  {
   "cell_type": "code",
   "execution_count": 8,
   "metadata": {},
   "outputs": [],
   "source": [
    "from sklearn.model_selection import train_test_split\n",
    "from sklearn import datasets\n",
    "from sklearn.preprocessing import StandardScaler\n",
    "import pandas as pd\n",
    "import numpy as np\n",
    "\n",
    "iris = datasets.load_iris()\n",
    "X = iris.data\n",
    "y = iris.target\n",
    "\n",
    "X_train, X_test, y_train, y_test = train_test_split(X, y, test_size=0.3)\n",
    "\n",
    "#Transform data\n",
    "scaler = StandardScaler()\n",
    "scaler.fit(X_train)\n",
    "X_train = scaler.transform(X_train)\n",
    "X_test = scaler.transform(X_test)"
   ]
  },
  {
   "attachments": {},
   "cell_type": "markdown",
   "metadata": {},
   "source": [
    "\n",
    "## <a id='toc1_1_'></a>[Regularization](#toc0_)\n",
    "- **Definition**: Regularization is a technique used to prevent overfitting in a machine learning model by adding a penalty term to the loss function. The penalty term discourages the model from learning overly complex patterns in the training data that may not generalize well to unseen data.\n",
    "- **Use Case and Intuition**: Regularization is used when a model is overfitting the training data, i.e., it performs well on the training data but poorly on the test data. The intuition behind regularization is to keep the weights of the model small, which makes the model simpler and less likely to overfit.\n",
    "- **Formula**: In the case of L2 regularization (also known as Ridge regression), the penalty term is the sum of the squares of the model weights, multiplied by the regularization parameter (λ). In the case of L1 regularization (also known as Lasso regression), the penalty term is the sum of the absolute values of the model weights, multiplied by the regularization parameter.\n",
    "- **Code Example**:\n",
    "\n"
   ]
  },
  {
   "cell_type": "code",
   "execution_count": 4,
   "metadata": {},
   "outputs": [
    {
     "data": {
      "text/html": [
       "<style>#sk-container-id-2 {color: black;background-color: white;}#sk-container-id-2 pre{padding: 0;}#sk-container-id-2 div.sk-toggleable {background-color: white;}#sk-container-id-2 label.sk-toggleable__label {cursor: pointer;display: block;width: 100%;margin-bottom: 0;padding: 0.3em;box-sizing: border-box;text-align: center;}#sk-container-id-2 label.sk-toggleable__label-arrow:before {content: \"▸\";float: left;margin-right: 0.25em;color: #696969;}#sk-container-id-2 label.sk-toggleable__label-arrow:hover:before {color: black;}#sk-container-id-2 div.sk-estimator:hover label.sk-toggleable__label-arrow:before {color: black;}#sk-container-id-2 div.sk-toggleable__content {max-height: 0;max-width: 0;overflow: hidden;text-align: left;background-color: #f0f8ff;}#sk-container-id-2 div.sk-toggleable__content pre {margin: 0.2em;color: black;border-radius: 0.25em;background-color: #f0f8ff;}#sk-container-id-2 input.sk-toggleable__control:checked~div.sk-toggleable__content {max-height: 200px;max-width: 100%;overflow: auto;}#sk-container-id-2 input.sk-toggleable__control:checked~label.sk-toggleable__label-arrow:before {content: \"▾\";}#sk-container-id-2 div.sk-estimator input.sk-toggleable__control:checked~label.sk-toggleable__label {background-color: #d4ebff;}#sk-container-id-2 div.sk-label input.sk-toggleable__control:checked~label.sk-toggleable__label {background-color: #d4ebff;}#sk-container-id-2 input.sk-hidden--visually {border: 0;clip: rect(1px 1px 1px 1px);clip: rect(1px, 1px, 1px, 1px);height: 1px;margin: -1px;overflow: hidden;padding: 0;position: absolute;width: 1px;}#sk-container-id-2 div.sk-estimator {font-family: monospace;background-color: #f0f8ff;border: 1px dotted black;border-radius: 0.25em;box-sizing: border-box;margin-bottom: 0.5em;}#sk-container-id-2 div.sk-estimator:hover {background-color: #d4ebff;}#sk-container-id-2 div.sk-parallel-item::after {content: \"\";width: 100%;border-bottom: 1px solid gray;flex-grow: 1;}#sk-container-id-2 div.sk-label:hover label.sk-toggleable__label {background-color: #d4ebff;}#sk-container-id-2 div.sk-serial::before {content: \"\";position: absolute;border-left: 1px solid gray;box-sizing: border-box;top: 0;bottom: 0;left: 50%;z-index: 0;}#sk-container-id-2 div.sk-serial {display: flex;flex-direction: column;align-items: center;background-color: white;padding-right: 0.2em;padding-left: 0.2em;position: relative;}#sk-container-id-2 div.sk-item {position: relative;z-index: 1;}#sk-container-id-2 div.sk-parallel {display: flex;align-items: stretch;justify-content: center;background-color: white;position: relative;}#sk-container-id-2 div.sk-item::before, #sk-container-id-2 div.sk-parallel-item::before {content: \"\";position: absolute;border-left: 1px solid gray;box-sizing: border-box;top: 0;bottom: 0;left: 50%;z-index: -1;}#sk-container-id-2 div.sk-parallel-item {display: flex;flex-direction: column;z-index: 1;position: relative;background-color: white;}#sk-container-id-2 div.sk-parallel-item:first-child::after {align-self: flex-end;width: 50%;}#sk-container-id-2 div.sk-parallel-item:last-child::after {align-self: flex-start;width: 50%;}#sk-container-id-2 div.sk-parallel-item:only-child::after {width: 0;}#sk-container-id-2 div.sk-dashed-wrapped {border: 1px dashed gray;margin: 0 0.4em 0.5em 0.4em;box-sizing: border-box;padding-bottom: 0.4em;background-color: white;}#sk-container-id-2 div.sk-label label {font-family: monospace;font-weight: bold;display: inline-block;line-height: 1.2em;}#sk-container-id-2 div.sk-label-container {text-align: center;}#sk-container-id-2 div.sk-container {/* jupyter's `normalize.less` sets `[hidden] { display: none; }` but bootstrap.min.css set `[hidden] { display: none !important; }` so we also need the `!important` here to be able to override the default hidden behavior on the sphinx rendered scikit-learn.org. See: https://github.com/scikit-learn/scikit-learn/issues/21755 */display: inline-block !important;position: relative;}#sk-container-id-2 div.sk-text-repr-fallback {display: none;}</style><div id=\"sk-container-id-2\" class=\"sk-top-container\"><div class=\"sk-text-repr-fallback\"><pre>Lasso()</pre><b>In a Jupyter environment, please rerun this cell to show the HTML representation or trust the notebook. <br />On GitHub, the HTML representation is unable to render, please try loading this page with nbviewer.org.</b></div><div class=\"sk-container\" hidden><div class=\"sk-item\"><div class=\"sk-estimator sk-toggleable\"><input class=\"sk-toggleable__control sk-hidden--visually\" id=\"sk-estimator-id-2\" type=\"checkbox\" checked><label for=\"sk-estimator-id-2\" class=\"sk-toggleable__label sk-toggleable__label-arrow\">Lasso</label><div class=\"sk-toggleable__content\"><pre>Lasso()</pre></div></div></div></div></div>"
      ],
      "text/plain": [
       "Lasso()"
      ]
     },
     "execution_count": 4,
     "metadata": {},
     "output_type": "execute_result"
    }
   ],
   "source": [
    "from sklearn.linear_model import Ridge, Lasso\n",
    "\n",
    "# Ridge regression\n",
    "ridge = Ridge(alpha=1.0)\n",
    "ridge.fit(X_train, y_train)\n",
    "\n",
    "# Lasso regression\n",
    "lasso = Lasso(alpha=1.0)\n",
    "lasso.fit(X_train, y_train)"
   ]
  },
  {
   "attachments": {},
   "cell_type": "markdown",
   "metadata": {},
   "source": [
    "\n",
    "- **Assumptions and Cautions**: Regularization assumes that smaller weights lead to simpler and more generalizable models. However, the choice of the regularization parameter is critical and needs to be carefully tuned. Also, L1 regularization can lead to sparse solutions where some weights are exactly zero, while L2 regularization tends to distribute the weights evenly.\n",
    "- **Interpretation**: Models with regularization are interpreted in the same way as their non-regularized counterparts. However, it's important to note that the weights of the regularized models are shrunk towards zero, which can affect the interpretation of the feature importance.\n"
   ]
  },
  {
   "attachments": {},
   "cell_type": "markdown",
   "metadata": {},
   "source": [
    "\n",
    "## <a id='toc1_2_'></a>[Transformation](#toc0_)\n",
    "- **Definition**: Transformation is the process of changing the distribution or relationship of a feature using a mathematical function.\n",
    "- **Use Case and Intuition**: Transformation is used when the distribution of the feature is not suitable for the machine learning algorithm. For example, some algorithms assume that the features are normally distributed. The intuition is to make the distribution of the feature more suitable for the machine learning algorithm.\n",
    "- **Formula**: Common transformations include log transformation, square root transformation, and inverse transformation.\n",
    "- **Code Example**:\n"
   ]
  },
  {
   "cell_type": "code",
   "execution_count": 9,
   "metadata": {},
   "outputs": [],
   "source": [
    "\n",
    "# Log transformation\n",
    "X_log = np.log(X + 1)\n",
    "\n",
    "# Square root transformation\n",
    "X_sqrt = np.sqrt(X)\n",
    "\n",
    "# Inverse transformation\n",
    "X_inv = 1 / (X + 1)\n"
   ]
  },
  {
   "attachments": {},
   "cell_type": "markdown",
   "metadata": {},
   "source": [
    "\n",
    "- **Assumptions and Cautions**: Transformation assumes that the features are numerical and continuous. Also, the choice of the transformation depends on the distribution of the feature and the assumptions of the machine learning algorithm.\n",
    "- **Interpretation**: After transformation, the distribution of the feature will be different, which can affect the interpretation of the feature. For example, after log transformation, a change in the feature corresponds to a percentage change in the target variable.\n"
   ]
  },
  {
   "attachments": {},
   "cell_type": "markdown",
   "metadata": {},
   "source": [
    "\n",
    "## <a id='toc1_3_'></a>[Stratification](#toc0_)\n",
    "- **Definition**: Stratification is the process of dividing the data into homogeneous subgroups before sampling. The strata should be mutually exclusive: every element in the population must be assigned to only one stratum. The strata should also be collectively exhaustive: no population element can be excluded.\n",
    "- **Use Case and Intuition**: Stratification is used when the target variable is imbalanced, i.e., one class has many more examples than the other class. The intuition is to ensure that each class is adequately represented in the training and test sets.\n",
    "- **Formula**: Stratification does not have a specific formula. It involves dividing the data into subgroups based on the target variable.\n",
    "- **Code Example**:\n"
   ]
  },
  {
   "cell_type": "code",
   "execution_count": 10,
   "metadata": {},
   "outputs": [],
   "source": [
    "\n",
    "from sklearn.model_selection import StratifiedShuffleSplit\n",
    "\n",
    "sss = StratifiedShuffleSplit(n_splits=5, test_size=0.2, random_state=42)\n",
    "for train_index, test_index in sss.split(X, y):\n",
    "    X_train, X_test = X[train_index], X[test_index]\n",
    "    y_train, y_test = y[train_index], y[test_index]\n"
   ]
  },
  {
   "attachments": {},
   "cell_type": "markdown",
   "metadata": {},
   "source": [
    "\n",
    "- **Assumptions and Cautions**: Stratification assumes that the distribution of the target variable is important to maintain in the training and test sets. However, stratification can lead to biased estimates if the strata are not defined correctly.\n",
    "- **Interpretation**: Stratification does not affect the interpretation of the model, but it can improve the reliability of the performance estimates.\n"
   ]
  },
  {
   "attachments": {},
   "cell_type": "markdown",
   "metadata": {},
   "source": [
    "\n",
    "## <a id='toc1_4_'></a>[Cross-Validation](#toc0_)\n",
    "- **Definition**: Cross-validation is a resampling procedure used to evaluate machine learning models on a limited data sample. The procedure has a single parameter called k that refers to the number of groups that a given data sample is to be split into.\n",
    "- **Use Case and Intuition**: Cross-validation is primarily used in applied machine learning to estimate the skill of a machine learning model on unseen data. That is, to use a limited sample in order to estimate how the model is expected to perform in general when used to make predictions on data not used during the training of the model.\n",
    "- **Formula**: Cross-validation does not have a specific formula. It involves dividing the data into k subsets of approximately equal size. The model is trained on k-1 subsets and tested on the remaining subset. This process is repeated k times, with each subset serving as the test set once.\n",
    "- **Code Example**:\n"
   ]
  },
  {
   "cell_type": "code",
   "execution_count": null,
   "metadata": {},
   "outputs": [],
   "source": [
    "\n",
    "from sklearn.model_selection import cross_val_score\n",
    "from sklearn.ensemble import RandomForestClassifier\n",
    "\n",
    "clf = RandomForestClassifier(random_state=42)\n",
    "scores = cross_val_score(clf, X, y, cv=5)\n",
    "print(\"Cross-validation scores: \", scores)\n",
    "\n"
   ]
  },
  {
   "attachments": {},
   "cell_type": "markdown",
   "metadata": {},
   "source": [
    "- **Assumptions and Cautions**: Cross-validation assumes that the data is independently and identically distributed. It may not be appropriate if there is a temporal or spatial structure in the data. Also, the choice of k is important. A small k may lead to a high variance in the performance estimate, while a large k may be computationally expensive.\n",
    "- **Interpretation**: The performance of the model is usually taken as the average performance over the k folds. A high variance in the performance across folds may indicate that the model is sensitive to the specific partitioning of the data.\n"
   ]
  },
  {
   "attachments": {},
   "cell_type": "markdown",
   "metadata": {},
   "source": [
    "\n",
    "## <a id='toc1_5_'></a>[Feature Engineering](#toc0_)\n",
    "- **Definition**: Feature engineering is the process of creating new features or modifying existing features to improve the performance of a machine learning model.\n",
    "- **Use Case and Intuition**: Feature engineering is used when the existing features are not sufficient to capture the underlying pattern in the data. The intuition is to create features that have a strong relationship with the target variable or that interact well with the machine learning algorithm.\n",
    "- **Formula**: Feature engineering does not have a specific formula. It can involve various techniques such as binning, polynomial features, interaction features, and domain-specific transformations.\n",
    "- **Code Example**:\n"
   ]
  },
  {
   "cell_type": "code",
   "execution_count": 11,
   "metadata": {},
   "outputs": [],
   "source": [
    "from sklearn.preprocessing import PolynomialFeatures\n",
    "\n",
    "poly = PolynomialFeatures(degree=2, interaction_only=True)\n",
    "X_poly = poly.fit_transform(X)\n",
    "\n"
   ]
  },
  {
   "attachments": {},
   "cell_type": "markdown",
   "metadata": {},
   "source": [
    "\n",
    "- **Assumptions and Cautions**: Feature engineering assumes that the new or modified features will improve the performance of the machine learning model. However, it can lead to overfitting if the features are too complex or if they are not relevant to the target variable.\n",
    "- **Interpretation**: Features created through feature engineering are interpreted in the same way as the original features. However, the interpretation can be less intuitive, especially for complex transformations or interactions.\n"
   ]
  },
  {
   "attachments": {},
   "cell_type": "markdown",
   "metadata": {},
   "source": [
    "\n",
    "For more detailed information, you can refer to these papers:\n",
    "1. [Classification of Small Lesions in Breast MRI: Evaluating The Role of Dynamically Extracted Texture Features Through Feature Selection.](https://dx.doi.org/10.5405/jmbe.1183) \n",
    "2. [Ensemble learning based automatic detection of tuberculosis in chest X-ray images using hybrid feature descriptors](https://dx.doi.org/10.1007/s13246-020-00966-0)\n",
    "3. [Enhancing EEG-Based Classification of Depression Patients Using Spatial Information](https://dx.doi.org/10.1109/TNSRE.2021.3059429)\n",
    "4. [Feature Engineering and Selection: A Practical Approach for Predictive Models](https://dx.doi.org/10.1080/00031305.2020.1790217)\n",
    "5. [Machine Learning and feature engineering-based study into sarcasm and irony classification with application to cyberbullying detection](https://dx.doi.org/10.1016/j.ipm.2021.102600)\n",
    "6. [Intrusion Detection System for Internet of Things Based on Temporal Convolution Neural Network and Efficient Feature Engineering](https://dx.doi.org/10.1155/2020/6689134)"
   ]
  }
 ],
 "metadata": {
  "kernelspec": {
   "display_name": "base",
   "language": "python",
   "name": "python3"
  },
  "language_info": {
   "codemirror_mode": {
    "name": "ipython",
    "version": 3
   },
   "file_extension": ".py",
   "mimetype": "text/x-python",
   "name": "python",
   "nbconvert_exporter": "python",
   "pygments_lexer": "ipython3",
   "version": "3.9.16"
  },
  "orig_nbformat": 4
 },
 "nbformat": 4,
 "nbformat_minor": 2
}
