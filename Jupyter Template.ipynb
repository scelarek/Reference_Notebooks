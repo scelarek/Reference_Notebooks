{
 "cells": [
  {
   "cell_type": "markdown",
   "metadata": {},
   "source": [
    "# <a id='toc1_'></a>[Data Analysis](#toc0_)\n",
    "\n",
    "Name  \n",
    "Topic  \n",
    "email  \n",
    "June 4th, 2023  \n"
   ]
  },
  {
   "cell_type": "markdown",
   "metadata": {},
   "source": [
    "**Table of contents**<a id='toc0_'></a>    \n",
    "- [Data Analysis](#toc1_)    \n",
    "- [1. Introduction](#toc2_)    \n",
    "  - [1.1. Key Questions](#toc2_1_)    \n",
    "  - [1.2. Assumptions and Methods](#toc2_2_)    \n",
    "- [2. Setup and Data Collection](#toc3_)    \n",
    "- [3. Cleaning and Feature Engineering](#toc4_)    \n",
    "- [4. Exploratory Data Analysis](#toc5_)    \n",
    "- [5. Model 1: Preparation, Initiation, and Evaluation](#toc6_)    \n",
    "- [5. Model 2: Preparation, Initiation, and Evaluation](#toc7_)    \n",
    "- [5. Model 3: Preparation, Initiation, and Evaluation](#toc8_)    \n",
    "- [7. Key Findings](#toc9_)    \n",
    "- [8. Recommendations](#toc10_)    \n",
    "\n",
    "<!-- vscode-jupyter-toc-config\n",
    "\tnumbering=false\n",
    "\tanchor=true\n",
    "\tflat=false\n",
    "\tminLevel=1\n",
    "\tmaxLevel=6\n",
    "\t/vscode-jupyter-toc-config -->\n",
    "<!-- THIS CELL WILL BE REPLACED ON TOC UPDATE. DO NOT WRITE YOUR TEXT IN THIS CELL -->"
   ]
  },
  {
   "cell_type": "markdown",
   "metadata": {},
   "source": [
    "# <a id='toc2_'></a>[1. Introduction](#toc0_)\n",
    "\n"
   ]
  },
  {
   "cell_type": "markdown",
   "metadata": {},
   "source": [
    "## <a id='toc2_1_'></a>[1.1. Key Questions](#toc0_)"
   ]
  },
  {
   "cell_type": "markdown",
   "metadata": {},
   "source": [
    "## <a id='toc2_2_'></a>[1.2. Assumptions and Methods](#toc0_)"
   ]
  },
  {
   "cell_type": "markdown",
   "metadata": {},
   "source": [
    "\n",
    "# <a id='toc3_'></a>[2. Setup and Data Collection](#toc0_)\n",
    "\n"
   ]
  },
  {
   "cell_type": "code",
   "execution_count": 1,
   "metadata": {},
   "outputs": [],
   "source": [
    "# Import necessary libraries\n",
    "import pandas as pd\n",
    "import numpy as np\n",
    "import matplotlib.pyplot as plt\n",
    "import seaborn as sns\n",
    "import datetime as dt\n",
    "import re\n",
    "\n",
    "# initialize styling params\n",
    "plt.rcParams['figure.figsize'] = (8.0, 6.0) #setting figure size\n",
    "\n",
    "# Load the data\n",
    "\n",
    "# Display the first few rows of the dataframe\n"
   ]
  },
  {
   "cell_type": "markdown",
   "metadata": {},
   "source": [
    "\n",
    "# <a id='toc4_'></a>[3. Cleaning and Feature Engineering](#toc0_)\n",
    "\n",
    "This section will describe the methods and techniques used in the analysis.\n"
   ]
  },
  {
   "cell_type": "markdown",
   "metadata": {},
   "source": [
    "\n",
    "# <a id='toc5_'></a>[4. Exploratory Data Analysis](#toc0_)\n",
    "\n",
    "In this section, we will perform some basic data analysis.\n"
   ]
  },
  {
   "cell_type": "markdown",
   "metadata": {},
   "source": [
    "\n",
    "# <a id='toc6_'></a>[5. Model 1: Preparation, Initiation, and Evaluation](#toc0_)\n",
    "\n",
    "In this section, we will perform some statistical analysis on the data.\n"
   ]
  },
  {
   "cell_type": "markdown",
   "metadata": {},
   "source": [
    "\n",
    "# <a id='toc7_'></a>[5. Model 2: Preparation, Initiation, and Evaluation](#toc0_)\n",
    "\n",
    "In this section, we will perform some statistical analysis on the data.\n"
   ]
  },
  {
   "cell_type": "markdown",
   "metadata": {},
   "source": [
    "\n",
    "# <a id='toc8_'></a>[5. Model 3: Preparation, Initiation, and Evaluation](#toc0_)\n",
    "\n",
    "In this section, we will perform some statistical analysis on the data.\n"
   ]
  },
  {
   "cell_type": "markdown",
   "metadata": {},
   "source": [
    "# <a id='toc9_'></a>[7. Key Findings](#toc0_)\n",
    "\n",
    "Summarize the findings from the analyses.\n"
   ]
  },
  {
   "cell_type": "markdown",
   "metadata": {},
   "source": [
    "\n",
    "# <a id='toc10_'></a>[8. Recommendations](#toc0_)\n",
    "\n"
   ]
  }
 ],
 "metadata": {
  "kernelspec": {
   "display_name": "base",
   "language": "python",
   "name": "python3"
  },
  "language_info": {
   "codemirror_mode": {
    "name": "ipython",
    "version": 3
   },
   "file_extension": ".py",
   "mimetype": "text/x-python",
   "name": "python",
   "nbconvert_exporter": "python",
   "pygments_lexer": "ipython3",
   "version": "3.9.16"
  },
  "orig_nbformat": 4
 },
 "nbformat": 4,
 "nbformat_minor": 2
}
